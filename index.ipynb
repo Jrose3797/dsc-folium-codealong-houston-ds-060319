{
 "cells": [
  {
   "cell_type": "markdown",
   "metadata": {},
   "source": [
    "# Folium - Codealong\n",
    "\n",
    "## Introduction \n",
    "\n",
    "In this codealong, we'll take a look at how to create an interactive map using the Folium package. From there, we'll return to APIs in the final lab for the day where you'll make an interactive map from your requests to the API!\n",
    "\n",
    "## Objectives\n",
    "\n",
    "You will be able to: \n",
    "* Create maps with Folium"
   ]
  },
  {
   "cell_type": "markdown",
   "metadata": {},
   "source": [
    "## Creating a Basemap\n",
    "\n",
    "Here we'll take a look at creating a basemap over the London region!"
   ]
  },
  {
   "cell_type": "code",
   "execution_count": 2,
   "metadata": {
    "scrolled": false
   },
   "outputs": [
    {
     "data": {
      "text/html": [
       "<div style=\"width:100%;\"><div style=\"position:relative;width:100%;height:0;padding-bottom:60%;\"><iframe src=\"data:text/html;charset=utf-8;base64,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\" style=\"position:absolute;width:100%;height:100%;left:0;top:0;border:none !important;\" allowfullscreen webkitallowfullscreen mozallowfullscreen></iframe></div></div>"
      ],
      "text/plain": [
       "<folium.folium.Map at 0x7fc476dbee80>"
      ]
     },
     "execution_count": 2,
     "metadata": {},
     "output_type": "execute_result"
    }
   ],
   "source": [
    "import folium\n",
    "\n",
    "lat = 51.51\n",
    "long = -0.14\n",
    "\n",
    "#Create a map of the area\n",
    "base_map = folium.Map([lat, long])\n",
    "base_map"
   ]
  },
  {
   "cell_type": "markdown",
   "metadata": {},
   "source": [
    "## Adding Markers to the Map\n",
    "\n",
    "Great! Now let's take a look at adding little markers to our map!\n",
    "\n",
    "**Note:** you may have to zoom out to see all of the markers!"
   ]
  },
  {
   "cell_type": "code",
   "execution_count": 3,
   "metadata": {},
   "outputs": [
    {
     "data": {
      "text/html": [
       "<div style=\"width:100%;\"><div style=\"position:relative;width:100%;height:0;padding-bottom:60%;\"><iframe src=\"data:text/html;charset=utf-8;base64,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\" style=\"position:absolute;width:100%;height:100%;left:0;top:0;border:none !important;\" allowfullscreen webkitallowfullscreen mozallowfullscreen></iframe></div></div>"
      ],
      "text/plain": [
       "<folium.folium.Map at 0x7fc476dbee80>"
      ]
     },
     "execution_count": 3,
     "metadata": {},
     "output_type": "execute_result"
    }
   ],
   "source": [
    "import numpy as np\n",
    "\n",
    "#Generate some random locations to add to our map\n",
    "x = [lat + np.random.uniform(-.1,.1) for i in range(20)]\n",
    "y = [long + np.random.uniform(-.1,.1) for i in range(20)]\n",
    "points = list(zip(x, y))\n",
    "for p in points:\n",
    "    lat = p[0]\n",
    "    long = p[1]\n",
    "    marker = folium.Marker(location=[lat, long])\n",
    "    marker.add_to(base_map)\n",
    "base_map"
   ]
  },
  {
   "cell_type": "markdown",
   "metadata": {},
   "source": [
    "## Adding Pop-up Boxes to Our Markers\n",
    "\n",
    "Often we may wish to not only place markers on the map, but to create interactive pop-ups which display information to that location. To do this, we can add a popup to our markers when adding them to the map! "
   ]
  },
  {
   "cell_type": "code",
   "execution_count": null,
   "metadata": {},
   "outputs": [],
   "source": [
    "for p in points:\n",
    "    lat = p[0]\n",
    "    long = p[1]\n",
    "    popup_text = \"Latitude: {}, Longitude: {}\".format(lat,long)\n",
    "    popup = folium.Popup(popup_text, parse_html=True)\n",
    "    marker = folium.Marker(location=[lat, long], popup=popup)\n",
    "    marker.add_to(base_map)\n",
    "base_map"
   ]
  },
  {
   "cell_type": "markdown",
   "metadata": {},
   "source": [
    "Now, if you click on the map markers, you should see a little information box pop up!\n",
    "\n",
    "## Summary \n",
    "\n",
    "In this codealong, we learned how to use Folium to create some cool interactive maps with only a few lines of python code! In the next lab, you'll synthesize your skills for the day together and create an interactive visualization map for data you retrieve from the Yelp API!"
   ]
  }
 ],
 "metadata": {
  "kernelspec": {
   "display_name": "Python 3",
   "language": "python",
   "name": "python3"
  },
  "language_info": {
   "codemirror_mode": {
    "name": "ipython",
    "version": 3
   },
   "file_extension": ".py",
   "mimetype": "text/x-python",
   "name": "python",
   "nbconvert_exporter": "python",
   "pygments_lexer": "ipython3",
   "version": "3.6.6"
  }
 },
 "nbformat": 4,
 "nbformat_minor": 2
}
